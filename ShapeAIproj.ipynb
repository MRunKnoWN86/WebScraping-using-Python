{
  "nbformat": 4,
  "nbformat_minor": 0,
  "metadata": {
    "colab": {
      "name": "ShapeAIproj.ipynb",
      "provenance": [],
      "collapsed_sections": [],
      "authorship_tag": "ABX9TyNYH7/R4o7wmfrBOTNg7HvP",
      "include_colab_link": true
    },
    "kernelspec": {
      "name": "python3",
      "display_name": "Python 3"
    },
    "language_info": {
      "name": "python"
    }
  },
  "cells": [
    {
      "cell_type": "markdown",
      "metadata": {
        "id": "view-in-github",
        "colab_type": "text"
      },
      "source": [
        "<a href=\"https://colab.research.google.com/github/MRunKnoWN86/WebScraping-using-Python/blob/main/ShapeAIproj.ipynb\" target=\"_parent\"><img src=\"https://colab.research.google.com/assets/colab-badge.svg\" alt=\"Open In Colab\"/></a>"
      ]
    },
    {
      "cell_type": "code",
      "metadata": {
        "id": "W498ICIr1Nb3"
      },
      "source": [
        "import pandas as pd\n",
        "import re\n",
        "import requests\n",
        "from bs4 import BeautifulSoup\n",
        "\n",
        "column = ['Name_Player','Age','Overall','Potential','Team_name','Contract_Year','Value','Wage','Total_stats']\n",
        "FIFAdata = pd.DataFrame(columns = column)\n",
        "url = 'https://sofifa.com/players?offset='\n"
      ],
      "execution_count": 261,
      "outputs": []
    },
    {
      "cell_type": "code",
      "metadata": {
        "id": "grftnbrB1a3B",
        "colab": {
          "base_uri": "https://localhost:8080/",
          "height": 203
        },
        "outputId": "50db5d5a-0e51-4987-d5f3-c7072abd1d04"
      },
      "source": [
        "\n",
        "for j in range(0,10):\n",
        "    url = 'https://sofifa.com/players?offset='\n",
        "    url = url + str(j*60) \n",
        "    rsp = requests.get(url)\n",
        "    soup = BeautifulSoup(rsp.content , 'lxml')\n",
        "    table = soup.find('tbody')\n",
        "    for i in table.findAll('tr'):    \n",
        "        td = i.findAll('td')\n",
        "        NAME = td[1].findAll('a')[0].text\n",
        "        AGE = td[2].text\n",
        "        OVA = td[3].text\n",
        "        POT = td[4].text\n",
        "        TEAM_NAME = td[5].find('a').text\n",
        "        CONTRACT = td[5].findAll('div')[1].text.strip()\n",
        "        VALUE = re.sub('€','',td[6].text)\n",
        "        WAGE = re.sub('€','',td[7].text)\n",
        "        TOTAL_STATS = td[8].text\n",
        "\n",
        "\n",
        "\n",
        "df = pd.DataFrame([[NAME,AGE,OVA,POT,TEAM_NAME,CONTRACT,VALUE,WAGE,TOTAL_STATS]])\n",
        "df.columns = column\n",
        "FIFAdata = FIFAdata.append(df, ignore_index = True)\n",
        "\n",
        "FIFAdata.head()\n",
        "\n",
        "\n",
        "    "
      ],
      "execution_count": 267,
      "outputs": [
        {
          "output_type": "execute_result",
          "data": {
            "text/html": [
              "<div>\n",
              "<style scoped>\n",
              "    .dataframe tbody tr th:only-of-type {\n",
              "        vertical-align: middle;\n",
              "    }\n",
              "\n",
              "    .dataframe tbody tr th {\n",
              "        vertical-align: top;\n",
              "    }\n",
              "\n",
              "    .dataframe thead th {\n",
              "        text-align: right;\n",
              "    }\n",
              "</style>\n",
              "<table border=\"1\" class=\"dataframe\">\n",
              "  <thead>\n",
              "    <tr style=\"text-align: right;\">\n",
              "      <th></th>\n",
              "      <th>Name_Player</th>\n",
              "      <th>Age</th>\n",
              "      <th>Overall</th>\n",
              "      <th>Potential</th>\n",
              "      <th>Team_name</th>\n",
              "      <th>Contract_Year</th>\n",
              "      <th>Value</th>\n",
              "      <th>Wage</th>\n",
              "      <th>Total_stats</th>\n",
              "    </tr>\n",
              "  </thead>\n",
              "  <tbody>\n",
              "    <tr>\n",
              "      <th>0</th>\n",
              "      <td>K. Navas</td>\n",
              "      <td>34</td>\n",
              "      <td>88</td>\n",
              "      <td>88</td>\n",
              "      <td>Paris Saint-Germain</td>\n",
              "      <td>\\n2019 ~ 2024</td>\n",
              "      <td>15.5M</td>\n",
              "      <td>130K</td>\n",
              "      <td>1428</td>\n",
              "    </tr>\n",
              "    <tr>\n",
              "      <th>1</th>\n",
              "      <td>J. Tah</td>\n",
              "      <td>25</td>\n",
              "      <td>78</td>\n",
              "      <td>82</td>\n",
              "      <td>Bayer 04 Leverkusen</td>\n",
              "      <td>\\n2015 ~ 2025</td>\n",
              "      <td>17.5M</td>\n",
              "      <td>43K</td>\n",
              "      <td>1615</td>\n",
              "    </tr>\n",
              "    <tr>\n",
              "      <th>2</th>\n",
              "      <td>Angeliño</td>\n",
              "      <td>24</td>\n",
              "      <td>83</td>\n",
              "      <td>86</td>\n",
              "      <td>RB Leipzig</td>\n",
              "      <td>2021 ~ 2025</td>\n",
              "      <td>46M</td>\n",
              "      <td>77K</td>\n",
              "      <td>2209</td>\n",
              "    </tr>\n",
              "    <tr>\n",
              "      <th>3</th>\n",
              "      <td>Angeliño</td>\n",
              "      <td>24</td>\n",
              "      <td>83</td>\n",
              "      <td>86</td>\n",
              "      <td>RB Leipzig</td>\n",
              "      <td>2021 ~ 2025</td>\n",
              "      <td>46M</td>\n",
              "      <td>77K</td>\n",
              "      <td>2209</td>\n",
              "    </tr>\n",
              "    <tr>\n",
              "      <th>4</th>\n",
              "      <td>Angeliño</td>\n",
              "      <td>24</td>\n",
              "      <td>83</td>\n",
              "      <td>86</td>\n",
              "      <td>RB Leipzig</td>\n",
              "      <td>2021 ~ 2025</td>\n",
              "      <td>46M</td>\n",
              "      <td>77K</td>\n",
              "      <td>2209</td>\n",
              "    </tr>\n",
              "  </tbody>\n",
              "</table>\n",
              "</div>"
            ],
            "text/plain": [
              "  Name_Player Age Overall Potential  ...  Contract_Year  Value  Wage Total_stats\n",
              "0    K. Navas  34      88        88  ...  \\n2019 ~ 2024  15.5M  130K        1428\n",
              "1      J. Tah  25      78        82  ...  \\n2015 ~ 2025  17.5M   43K        1615\n",
              "2    Angeliño  24      83        86  ...    2021 ~ 2025    46M   77K        2209\n",
              "3    Angeliño  24      83        86  ...    2021 ~ 2025    46M   77K        2209\n",
              "4    Angeliño  24      83        86  ...    2021 ~ 2025    46M   77K        2209\n",
              "\n",
              "[5 rows x 9 columns]"
            ]
          },
          "metadata": {},
          "execution_count": 267
        }
      ]
    },
    {
      "cell_type": "code",
      "metadata": {
        "id": "0eQUOCVKbqqg"
      },
      "source": [
        ""
      ],
      "execution_count": null,
      "outputs": []
    },
    {
      "cell_type": "code",
      "metadata": {
        "id": "J5116mHibra1"
      },
      "source": [
        "FIFAdata.to_csv('FIFAdatas.csv', index = None)"
      ],
      "execution_count": 242,
      "outputs": []
    },
    {
      "cell_type": "code",
      "metadata": {
        "id": "_jc8r7MPb5eL"
      },
      "source": [
        ""
      ],
      "execution_count": null,
      "outputs": []
    }
  ]
}